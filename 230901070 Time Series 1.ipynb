{
 "cells": [
  {
   "cell_type": "code",
   "execution_count": 3,
   "id": "d5a6369b",
   "metadata": {},
   "outputs": [
    {
     "name": "stdout",
     "output_type": "stream",
     "text": [
      "today-now function: 2025-04-07 12:15:35.683328\n"
     ]
    }
   ],
   "source": [
    "import datetime\n",
    "a=datetime.datetime.now()\n",
    "print(\"today-now function:\",a)"
   ]
  },
  {
   "cell_type": "code",
   "execution_count": 4,
   "id": "12794b5c",
   "metadata": {},
   "outputs": [
    {
     "name": "stdout",
     "output_type": "stream",
     "text": [
      "\n",
      "today: 2025-04-07 12:16:46.438020\n"
     ]
    }
   ],
   "source": [
    "today=datetime.datetime.today()\n",
    "print(\"\\ntoday:\",today)"
   ]
  },
  {
   "cell_type": "code",
   "execution_count": 6,
   "id": "c4bfcaab",
   "metadata": {},
   "outputs": [
    {
     "name": "stdout",
     "output_type": "stream",
     "text": [
      "\n",
      "tomorrow: 2025-04-10 12:16:46.438020\n"
     ]
    }
   ],
   "source": [
    "tomorrow=today+datetime.timedelta(days=3)\n",
    "print(\"\\ntomorrow:\",tomorrow)"
   ]
  },
  {
   "cell_type": "code",
   "execution_count": 7,
   "id": "f6227002",
   "metadata": {},
   "outputs": [
    {
     "name": "stdout",
     "output_type": "stream",
     "text": [
      "\n",
      "yesterday: 2025-04-05 12:16:46.438020\n"
     ]
    }
   ],
   "source": [
    "yesterday=today-datetime.timedelta(days=2)\n",
    "print(\"\\nyesterday:\",yesterday)"
   ]
  },
  {
   "cell_type": "code",
   "execution_count": 8,
   "id": "11b49de1",
   "metadata": {},
   "outputs": [
    {
     "name": "stdout",
     "output_type": "stream",
     "text": [
      "\n",
      "date format [2020,6,8,23,10,25,404040): 2020-06-08 23:10:25.404040\n"
     ]
    }
   ],
   "source": [
    "a=datetime.datetime.now()\n",
    "b=datetime.datetime(2020,6,8,23,10,25,404040)\n",
    "print(\"\\ndate format [2020,6,8,23,10,25,404040):\",b)"
   ]
  },
  {
   "cell_type": "code",
   "execution_count": 10,
   "id": "edd26e64",
   "metadata": {},
   "outputs": [
    {
     "name": "stdout",
     "output_type": "stream",
     "text": [
      "\n",
      "Replacing date 2024-12-31 2024-12-15\n"
     ]
    }
   ],
   "source": [
    "from datetime import date\n",
    "d=date(2024, 12, 31)\n",
    "print(\"\\nReplacing date\",d,d.replace(day=15))"
   ]
  },
  {
   "cell_type": "code",
   "execution_count": 11,
   "id": "3118d71b",
   "metadata": {},
   "outputs": [
    {
     "name": "stdout",
     "output_type": "stream",
     "text": [
      "\n",
      "Today: 2025-04-07\n",
      "Current year: 2025\n",
      "Current month: 4\n",
      "Current day: 7\n"
     ]
    }
   ],
   "source": [
    "today=date.today()\n",
    "print(\"\\nToday:\",today)\n",
    "print(\"Current year:\", today.year)\n",
    "print(\"Current month:\", today.month)\n",
    "print(\"Current day:\",today.day)"
   ]
  },
  {
   "cell_type": "code",
   "execution_count": null,
   "id": "d57c8858",
   "metadata": {},
   "outputs": [],
   "source": []
  }
 ],
 "metadata": {
  "kernelspec": {
   "display_name": "Python 3 (ipykernel)",
   "language": "python",
   "name": "python3"
  },
  "language_info": {
   "codemirror_mode": {
    "name": "ipython",
    "version": 3
   },
   "file_extension": ".py",
   "mimetype": "text/x-python",
   "name": "python",
   "nbconvert_exporter": "python",
   "pygments_lexer": "ipython3",
   "version": "3.11.3"
  }
 },
 "nbformat": 4,
 "nbformat_minor": 5
}
