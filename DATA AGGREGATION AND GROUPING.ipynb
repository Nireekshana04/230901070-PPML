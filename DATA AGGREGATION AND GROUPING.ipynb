{
 "cells": [
  {
   "cell_type": "code",
   "execution_count": 7,
   "id": "49fd9c20",
   "metadata": {},
   "outputs": [
    {
     "name": "stdout",
     "output_type": "stream",
     "text": [
      "\n",
      "Original Dataframe:\n",
      "       Name category  value  score\n",
      "0    Alice        A      3     72\n",
      "1      Bob        B      4     67\n",
      "2  Charlie        A      2     84\n",
      "3    Alice        B      3     72\n",
      "4      Bob        A      2     72\n",
      "5  Charlie        B      2     99\n"
     ]
    }
   ],
   "source": [
    "import numpy as np\n",
    "import pandas as pd\n",
    "df=pd.DataFrame({'Name':['Alice', 'Bob', 'Charlie', 'Alice', 'Bob', 'Charlie'],\n",
    "'category':['A', 'B', 'A', 'B', 'A', 'B'],\n",
    "'value':np.random.randint(1, 5, size=6),\n",
    "'score':np.random.randint(60, 100, size=6)\n",
    "})\n",
    "print(\"\\nOriginal Dataframe:\\n\",df)\n",
    "\n"
   ]
  },
  {
   "cell_type": "code",
   "execution_count": 8,
   "id": "6d69e3ec",
   "metadata": {},
   "outputs": [
    {
     "name": "stdout",
     "output_type": "stream",
     "text": [
      "\n",
      "Group by name and Aggregation with one column:\n",
      "       Name  value\n",
      "0    Alice      6\n",
      "1      Bob      6\n",
      "2  Charlie      4\n"
     ]
    }
   ],
   "source": [
    "#Data grouping and Aggregation: with one column sum\n",
    "df1=df.groupby(('Name'),as_index=False)['value'].sum()\n",
    "print(\"\\nGroup by name and Aggregation with one column:\\n\",df1)"
   ]
  },
  {
   "cell_type": "code",
   "execution_count": 9,
   "id": "ea13c742",
   "metadata": {},
   "outputs": [
    {
     "name": "stdout",
     "output_type": "stream",
     "text": [
      "\n",
      "Group by name and Aggregation with two column:\n",
      "       Name  value  score\n",
      "0    Alice      6    144\n",
      "1      Bob      6    139\n",
      "2  Charlie      4    183\n"
     ]
    }
   ],
   "source": [
    "#Data grouping and Aggregation: with two column sum\n",
    "df2=df.groupby(('Name'),as_index=False)[['value','score']].sum()\n",
    "print(\"\\nGroup by name and Aggregation with two column:\\n\",df2)"
   ]
  },
  {
   "cell_type": "code",
   "execution_count": 10,
   "id": "49950fb2",
   "metadata": {},
   "outputs": [
    {
     "name": "stdout",
     "output_type": "stream",
     "text": [
      "\n",
      "Group by name and Aggregation with one column using agg function:\n",
      "       Name  value\n",
      "0    Alice      6\n",
      "1      Bob      6\n",
      "2  Charlie      4\n"
     ]
    }
   ],
   "source": [
    "#Data grouping and Aggregation: with one column sum\n",
    "df3=df.groupby(('Name'),as_index=False)['value'].agg('sum')\n",
    "print(\"\\nGroup by name and Aggregation with one column using agg function:\\n\",df3)"
   ]
  },
  {
   "cell_type": "code",
   "execution_count": 11,
   "id": "1d0db2bb",
   "metadata": {},
   "outputs": [
    {
     "name": "stdout",
     "output_type": "stream",
     "text": [
      "\n",
      "Group by name and multiple Aggregation functions :\n",
      "         value              score      \n",
      "          sum mean min max   sum  mean\n",
      "Name                                  \n",
      "Alice       6  3.0   3   3   144  72.0\n",
      "Bob         6  3.0   2   4   139  69.5\n",
      "Charlie     4  2.0   2   2   183  91.5\n"
     ]
    }
   ],
   "source": [
    "#Group by 'Name' and calculate multiple aggregations\n",
    "df4 = df.groupby('Name').agg({\n",
    "'value': ['sum', 'mean', 'min', 'max'],\n",
    "'score': ['sum', 'mean']})\n",
    "\n",
    "print(\"\\nGroup by name and multiple Aggregation functions :\\n\", df4)"
   ]
  },
  {
   "cell_type": "code",
   "execution_count": 23,
   "id": "58d234c5",
   "metadata": {},
   "outputs": [
    {
     "name": "stdout",
     "output_type": "stream",
     "text": [
      "\n",
      " Group and Count:\n",
      "       Name  value\n",
      "0    Alice      2\n",
      "1      Bob      2\n",
      "2  Charlie      2\n"
     ]
    }
   ],
   "source": [
    "df5=df.groupby(('Name'),as_index=False)['value'].count()\n",
    "print(\"\\n Group and Count:\\n\",df5)"
   ]
  },
  {
   "cell_type": "code",
   "execution_count": 14,
   "id": "c32b67a4",
   "metadata": {},
   "outputs": [
    {
     "name": "stdout",
     "output_type": "stream",
     "text": [
      "\n",
      " Group and Count:\n",
      "          category  value  score\n",
      "Name                           \n",
      "Alice           2      2      2\n",
      "Bob             2      2      2\n",
      "Charlie         2      2      2\n"
     ]
    }
   ],
   "source": [
    "df6=df.groupby(('Name')).count()\n",
    "print(\"\\n Group and Count:\\n\",df6)"
   ]
  },
  {
   "cell_type": "code",
   "execution_count": 15,
   "id": "d7f6ba3f",
   "metadata": {},
   "outputs": [
    {
     "name": "stdout",
     "output_type": "stream",
     "text": [
      "\n",
      " Group and display from first:\n",
      "       Name  value\n",
      "0    Alice      3\n",
      "1      Bob      4\n",
      "2  Charlie      2\n"
     ]
    }
   ],
   "source": [
    "df7=df.groupby(('Name'),as_index=False)['value'].first()\n",
    "print(\"\\n Group and display from first:\\n\",df7)"
   ]
  },
  {
   "cell_type": "code",
   "execution_count": 16,
   "id": "f16a45d5",
   "metadata": {},
   "outputs": [
    {
     "name": "stdout",
     "output_type": "stream",
     "text": [
      "\n",
      " Group and display from first:\n",
      "          category  value  score\n",
      "Name                           \n",
      "Alice           2      2      2\n",
      "Bob             2      2      2\n",
      "Charlie         2      2      2\n"
     ]
    }
   ],
   "source": [
    "df8=df.groupby(('Name')).first()\n",
    "print(\"\\n Group and display from first:\\n\",df6)"
   ]
  },
  {
   "cell_type": "code",
   "execution_count": 17,
   "id": "ce262054",
   "metadata": {},
   "outputs": [
    {
     "name": "stdout",
     "output_type": "stream",
     "text": [
      "\n",
      " Group and display from last:\n",
      "       Name  value\n",
      "0    Alice      3\n",
      "1      Bob      2\n",
      "2  Charlie      2\n"
     ]
    }
   ],
   "source": [
    "df9=df.groupby(('Name'),as_index=False)['value'].last()\n",
    "print(\"\\n Group and display from last:\\n\",df9)"
   ]
  },
  {
   "cell_type": "code",
   "execution_count": 20,
   "id": "f3537217",
   "metadata": {},
   "outputs": [
    {
     "name": "stdout",
     "output_type": "stream",
     "text": [
      "\n",
      " Group and display from last:\n",
      "       Name  value\n",
      "0    Alice      3\n",
      "1      Bob      2\n",
      "2  Charlie      2\n"
     ]
    }
   ],
   "source": [
    "df10=df.groupby(('Name'),as_index=False)['value'].last()\n",
    "print(\"\\n Group and display from last:\\n\",df10)"
   ]
  },
  {
   "cell_type": "code",
   "execution_count": 21,
   "id": "41c134e0",
   "metadata": {},
   "outputs": [
    {
     "name": "stdout",
     "output_type": "stream",
     "text": [
      "\n",
      " Group and display from size:\n",
      "       Name  size\n",
      "0    Alice     2\n",
      "1      Bob     2\n",
      "2  Charlie     2\n"
     ]
    }
   ],
   "source": [
    "df11=df.groupby(('Name'),as_index=False)['value'].size()\n",
    "print(\"\\n Group and display from size:\\n\",df11)"
   ]
  },
  {
   "cell_type": "code",
   "execution_count": 22,
   "id": "6c59ae0b",
   "metadata": {},
   "outputs": [
    {
     "name": "stdout",
     "output_type": "stream",
     "text": [
      "\n",
      " Group and display from last:\n",
      " Name\n",
      "Alice      2\n",
      "Bob        2\n",
      "Charlie    2\n",
      "dtype: int64\n"
     ]
    }
   ],
   "source": [
    "df12=df.groupby(('Name')).size()\n",
    "print(\"\\n Group and display from last:\\n\",df12)"
   ]
  },
  {
   "cell_type": "code",
   "execution_count": null,
   "id": "02dbefb0",
   "metadata": {},
   "outputs": [],
   "source": []
  }
 ],
 "metadata": {
  "kernelspec": {
   "display_name": "Python 3 (ipykernel)",
   "language": "python",
   "name": "python3"
  },
  "language_info": {
   "codemirror_mode": {
    "name": "ipython",
    "version": 3
   },
   "file_extension": ".py",
   "mimetype": "text/x-python",
   "name": "python",
   "nbconvert_exporter": "python",
   "pygments_lexer": "ipython3",
   "version": "3.11.3"
  }
 },
 "nbformat": 4,
 "nbformat_minor": 5
}
