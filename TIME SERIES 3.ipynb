{
 "cells": [
  {
   "cell_type": "code",
   "execution_count": 4,
   "id": "40df3ebf",
   "metadata": {},
   "outputs": [
    {
     "name": "stdout",
     "output_type": "stream",
     "text": [
      "Date Index \n",
      " 2011-01-02   -0.387501\n",
      "2011-01-05    0.394824\n",
      "2011-01-07   -0.489183\n",
      "2011-01-08   -0.836929\n",
      "2011-01-10   -2.107995\n",
      "2011-01-12    0.135137\n",
      "dtype: float64\n"
     ]
    }
   ],
   "source": [
    "import pandas as pd\n",
    "import numpy as np\n",
    "from datetime import datetime\n",
    "#create a date variable that contains the dates\n",
    "dates = [datetime(2011, 1, 2),\n",
    " datetime(2011, 1, 5),\n",
    " datetime(2011, 1, 7),\n",
    " datetime(2011, 1, 8),\n",
    " datetime(2011, 1, 10),\n",
    " datetime(2011, 1, 12)]\n",
    "#with this date object, create a series\n",
    "ts = pd.Series(np.random.randn(6), index=dates)\n",
    "print(\"Date Index \\n\",ts)"
   ]
  },
  {
   "cell_type": "code",
   "execution_count": 5,
   "id": "7a7d4f26",
   "metadata": {},
   "outputs": [
    {
     "name": "stdout",
     "output_type": "stream",
     "text": [
      "\n",
      "Date Index alone from the series: \n",
      " DatetimeIndex(['2011-01-02', '2011-01-05', '2011-01-07', '2011-01-08',\n",
      "               '2011-01-10', '2011-01-12'],\n",
      "              dtype='datetime64[ns]', freq=None)\n"
     ]
    }
   ],
   "source": [
    "print(\"\\nDate Index alone from the series: \\n\",ts.index)"
   ]
  },
  {
   "cell_type": "code",
   "execution_count": 6,
   "id": "86ac1155",
   "metadata": {},
   "outputs": [
    {
     "name": "stdout",
     "output_type": "stream",
     "text": [
      "\n",
      "Second index:\n",
      " 2011-01-07 00:00:00\n"
     ]
    }
   ],
   "source": [
    "stamp=ts.index[2]\n",
    "print(\"\\nSecond index:\\n\", stamp)"
   ]
  },
  {
   "cell_type": "code",
   "execution_count": 7,
   "id": "3210ef6f",
   "metadata": {},
   "outputs": [
    {
     "name": "stdout",
     "output_type": "stream",
     "text": [
      "\n",
      "Daterange up to 1000 days:\n",
      " 2000-01-01   -1.537911\n",
      "2000-01-02    0.517140\n",
      "2000-01-03   -1.001166\n",
      "2000-01-04   -0.314710\n",
      "2000-01-05    0.918279\n",
      "                ...   \n",
      "2002-09-22    1.285828\n",
      "2002-09-23    0.488979\n",
      "2002-09-24   -0.949682\n",
      "2002-09-25    0.005799\n",
      "2002-09-26    0.624417\n",
      "Freq: D, Length: 1000, dtype: float64\n"
     ]
    }
   ],
   "source": [
    "#play like a ball with long-times series\n",
    "longer_ts=pd.Series(np.random.randn(1000),\n",
    " index=pd.date_range(\"2000-01-01\",periods=1000))\n",
    "print(\"\\nDaterange up to 1000 days:\\n\",longer_ts)\n"
   ]
  },
  {
   "cell_type": "code",
   "execution_count": 8,
   "id": "035b94d2",
   "metadata": {},
   "outputs": [
    {
     "name": "stdout",
     "output_type": "stream",
     "text": [
      "\n",
      "Date range-2001 year:\n",
      " 2001-01-01   -0.023236\n",
      "2001-01-02   -1.465039\n",
      "2001-01-03   -0.499518\n",
      "2001-01-04    0.370663\n",
      "2001-01-05    1.386352\n",
      "                ...   \n",
      "2001-12-27    1.151624\n",
      "2001-12-28    1.382381\n",
      "2001-12-29   -0.401666\n",
      "2001-12-30    2.202866\n",
      "2001-12-31   -0.615299\n",
      "Freq: D, Length: 365, dtype: float64\n"
     ]
    }
   ],
   "source": [
    "print(\"\\nDate range-2001 year:\\n\", longer_ts[\"2001\"])"
   ]
  },
  {
   "cell_type": "code",
   "execution_count": 9,
   "id": "c5a6a07d",
   "metadata": {},
   "outputs": [
    {
     "name": "stdout",
     "output_type": "stream",
     "text": [
      "\n",
      "Date range-05 month 2001 year:\n",
      " 2001-05-01   -0.591893\n",
      "2001-05-02   -0.492130\n",
      "2001-05-03    0.611833\n",
      "2001-05-04    2.297946\n",
      "2001-05-05    0.787995\n",
      "2001-05-06   -0.723191\n",
      "2001-05-07    0.368660\n",
      "2001-05-08    0.067624\n",
      "2001-05-09    2.109483\n",
      "2001-05-10    0.444641\n",
      "2001-05-11   -1.209864\n",
      "2001-05-12   -0.241936\n",
      "2001-05-13   -0.858269\n",
      "2001-05-14   -0.165409\n",
      "2001-05-15    0.247735\n",
      "2001-05-16    0.212962\n",
      "2001-05-17   -1.440020\n",
      "2001-05-18   -2.609930\n",
      "2001-05-19    0.717834\n",
      "2001-05-20    1.197927\n",
      "2001-05-21   -0.781272\n",
      "2001-05-22    0.058658\n",
      "2001-05-23   -1.135019\n",
      "2001-05-24    0.453407\n",
      "2001-05-25    0.486973\n",
      "2001-05-26    0.186982\n",
      "2001-05-27   -0.023515\n",
      "2001-05-28    1.403724\n",
      "2001-05-29   -1.372891\n",
      "2001-05-30    1.454775\n",
      "2001-05-31   -0.687466\n",
      "Freq: D, dtype: float64\n"
     ]
    }
   ],
   "source": [
    "print(\"\\nDate range-05 month 2001 year:\\n\", longer_ts[\"2001-05\"])"
   ]
  },
  {
   "cell_type": "code",
   "execution_count": 10,
   "id": "0ebb5e68",
   "metadata": {},
   "outputs": [
    {
     "name": "stdout",
     "output_type": "stream",
     "text": [
      "\n",
      "Date range-first few dates in 2000 year:\n",
      " 2000-01-01   -1.537911\n",
      "2000-01-02    0.517140\n",
      "2000-01-03   -1.001166\n",
      "2000-01-04   -0.314710\n",
      "2000-01-05    0.918279\n",
      "Freq: D, dtype: float64\n"
     ]
    }
   ],
   "source": [
    "print(\"\\nDate range-first few dates in 2000 year:\\n\",longer_ts[\"2000\"].head())"
   ]
  },
  {
   "cell_type": "code",
   "execution_count": 11,
   "id": "82c2b4bd",
   "metadata": {},
   "outputs": [
    {
     "name": "stdout",
     "output_type": "stream",
     "text": [
      "\n",
      "Date range-first 15 dates in 02 month 2001 year:\n",
      " 2000-02-01    1.038560\n",
      "2000-02-02    1.317704\n",
      "2000-02-03   -1.408036\n",
      "2000-02-04    0.364283\n",
      "2000-02-05    0.038912\n",
      "2000-02-06   -0.466538\n",
      "2000-02-07   -0.546766\n",
      "2000-02-08   -1.066863\n",
      "2000-02-09   -0.736029\n",
      "2000-02-10    2.640770\n",
      "2000-02-11    1.288807\n",
      "2000-02-12   -0.831274\n",
      "2000-02-13   -0.840317\n",
      "2000-02-14   -0.396081\n",
      "2000-02-15    1.406249\n",
      "Freq: D, dtype: float64\n"
     ]
    }
   ],
   "source": [
    "print(\"\\nDate range-first 15 dates in 02 month 2001 year:\\n\",longer_ts[\"2000-02\"].head(15))"
   ]
  },
  {
   "cell_type": "code",
   "execution_count": 12,
   "id": "344eac12",
   "metadata": {},
   "outputs": [
    {
     "name": "stdout",
     "output_type": "stream",
     "text": [
      "\n",
      "Date range-rom 26-9-2001:\n",
      " 2000-09-26    0.698614\n",
      "2000-09-27   -1.293310\n",
      "2000-09-28   -1.294262\n",
      "2000-09-29   -0.648016\n",
      "2000-09-30   -1.042213\n",
      "                ...   \n",
      "2002-09-22    1.285828\n",
      "2002-09-23    0.488979\n",
      "2002-09-24   -0.949682\n",
      "2002-09-25    0.005799\n",
      "2002-09-26    0.624417\n",
      "Freq: D, Length: 731, dtype: float64\n"
     ]
    }
   ],
   "source": [
    "print(\"\\nDate range-rom 26-9-2001:\\n\",longer_ts[datetime(2000,9,26):])"
   ]
  },
  {
   "cell_type": "code",
   "execution_count": 13,
   "id": "e8b2889a",
   "metadata": {},
   "outputs": [
    {
     "name": "stdout",
     "output_type": "stream",
     "text": [
      "\n",
      "Date range from 26-9-2001 to 25-9- 2002:\n",
      " 2001-09-26    0.130636\n",
      "2001-09-27   -0.219392\n",
      "2001-09-28    0.890959\n",
      "2001-09-29   -0.696187\n",
      "2001-09-30   -1.389595\n",
      "                ...   \n",
      "2002-09-21    1.051241\n",
      "2002-09-22    1.285828\n",
      "2002-09-23    0.488979\n",
      "2002-09-24   -0.949682\n",
      "2002-09-25    0.005799\n",
      "Freq: D, Length: 365, dtype: float64\n"
     ]
    }
   ],
   "source": [
    "print(\"\\nDate range from 26-9-2001 to 25-9- 2002:\\n\",longer_ts[datetime(2001,9,26):datetime(2002,9,25)])"
   ]
  },
  {
   "cell_type": "code",
   "execution_count": null,
   "id": "c61eb6bf",
   "metadata": {},
   "outputs": [],
   "source": []
  }
 ],
 "metadata": {
  "kernelspec": {
   "display_name": "Python 3 (ipykernel)",
   "language": "python",
   "name": "python3"
  },
  "language_info": {
   "codemirror_mode": {
    "name": "ipython",
    "version": 3
   },
   "file_extension": ".py",
   "mimetype": "text/x-python",
   "name": "python",
   "nbconvert_exporter": "python",
   "pygments_lexer": "ipython3",
   "version": "3.11.3"
  }
 },
 "nbformat": 4,
 "nbformat_minor": 5
}
